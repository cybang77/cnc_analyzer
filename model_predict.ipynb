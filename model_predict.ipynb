{
 "metadata": {
  "language_info": {
   "codemirror_mode": {
    "name": "ipython",
    "version": 3
   },
   "file_extension": ".py",
   "mimetype": "text/x-python",
   "name": "python",
   "nbconvert_exporter": "python",
   "pygments_lexer": "ipython3",
   "version": "3.8.8"
  },
  "orig_nbformat": 2,
  "kernelspec": {
   "name": "python388jvsc74a57bd0ae145cfc24d31867aaa3db75ceba463bcecfee083ef31f6c944329ab67f6deef",
   "display_name": "Python 3.8.8 64-bit ('dev': conda)"
  },
  "metadata": {
   "interpreter": {
    "hash": "ae145cfc24d31867aaa3db75ceba463bcecfee083ef31f6c944329ab67f6deef"
   }
  }
 },
 "nbformat": 4,
 "nbformat_minor": 2,
 "cells": [
  {
   "cell_type": "code",
   "execution_count": null,
   "metadata": {},
   "outputs": [],
   "source": [
    "import pandas as pd\n",
    "import numpy as np\n",
    "import matplotlib.pyplot as plt\n",
    "from keras.models import Sequential\n",
    "from keras.layers import LSTM, Dropout, Dense, Activation\n",
    "from sklearn.preprocessing import MinMaxScaler\n",
    "import keras\n",
    "import plotly.io as pio\n",
    "import plotly.graph_objects as go\n",
    "import tensorflow as tf"
   ]
  },
  {
   "cell_type": "code",
   "execution_count": null,
   "metadata": {},
   "outputs": [],
   "source": [
    "def create_dataset(signal_data, look_back=1):\n",
    "    dataX, dataY = [], []\n",
    "    for i in range(len(signal_data)-look_back):\n",
    "        dataX.append(signal_data[i:(i+look_back), 0])\n",
    "        dataY.append(signal_data[i + look_back, 0])\n",
    "    return np.array(dataX), np.array(dataY)\n",
    "\n",
    "def ratio(val, rate):\n",
    "    result = val + val*rate\n",
    "    if result < 0:\n",
    "        result = 0\n",
    "    if result > 1:\n",
    "        result = 1\n",
    "    return result\n",
    "\n",
    "CSV_FILE_PATH = \"D:\\\\workspace\\\\python\\\\sample\\\\train-0001-0420.csv\"\n",
    "data = pd.read_csv(CSV_FILE_PATH)"
   ]
  },
  {
   "cell_type": "code",
   "execution_count": null,
   "metadata": {},
   "outputs": [],
   "source": [
    "# data.ScaleLoad[300:800] += 0.2\n",
    "data['OrgLoad'] = data['Load']\n",
    "data['Load'][300:800] = data['Load'][300:800].apply(lambda x : ratio(x, 0.4))\n",
    "data.Load[1274:1447] = 0.4"
   ]
  },
  {
   "cell_type": "code",
   "execution_count": null,
   "metadata": {},
   "outputs": [],
   "source": [
    "print(data.info())"
   ]
  },
  {
   "cell_type": "code",
   "execution_count": null,
   "metadata": {},
   "outputs": [],
   "source": [
    "pio.templates.default = \"plotly_dark\"\n",
    "\n",
    "\n",
    "fig = go.Figure(layout=go.Layout(height=600, width=1200))\n",
    "fig = fig.add_trace(go.Scatter(x=data.index[:],\n",
    "                               y=data.Load[:],\n",
    "                               mode='lines',\n",
    "                               name=\"Changed Spindle Load\"))\n",
    "fig = fig.add_trace(go.Scatter(x=data.index[:],\n",
    "                               y=data.OrgLoad[:],\n",
    "                               mode='lines',\n",
    "                               name=\"Origin Spindle Load\"))\n",
    "fig.update_layout(title='Spindle Load',\n",
    "                   xaxis_title='time',\n",
    "                   yaxis_title='load')\n",
    "fig.show()"
   ]
  },
  {
   "cell_type": "code",
   "execution_count": null,
   "metadata": {},
   "outputs": [],
   "source": [
    "x_test, y_test = create_dataset(data['Load'].values[:, None], 100)\n",
    "x_test = np.reshape(x_test, (x_test.shape[0], x_test.shape[1], 1))"
   ]
  },
  {
   "cell_type": "code",
   "execution_count": null,
   "metadata": {},
   "outputs": [],
   "source": [
    "model = tf.keras.models.load_model('D:\\\\workspace\\\\python\\\\sample\\\\lstm-model-069-021-0.000129.h5')"
   ]
  },
  {
   "cell_type": "code",
   "execution_count": null,
   "metadata": {},
   "outputs": [],
   "source": [
    "x_test.shape"
   ]
  },
  {
   "cell_type": "code",
   "execution_count": null,
   "metadata": {},
   "outputs": [],
   "source": [
    "# 100개의 데이터로 1개 데이터 예측을 반복\n",
    "look_ahead = 1900\n",
    "\n",
    "predictions = model.predict(x_test[:look_ahead], batch_size=1, verbose=1)\n",
    "\n",
    "revel_predictions = np.ravel(predictions, order='C')\n",
    "revel_y_test = np.ravel(y_test[:look_ahead], order='C')\n",
    "\n",
    "fig = go.Figure(layout=go.Layout(height=600, width=1200))\n",
    "fig = fig.add_trace(go.Scatter(y=y_test[:look_ahead],\n",
    "                               mode='lines',\n",
    "                               name=\"origin\"))\n",
    "fig = fig.add_trace(go.Scatter(y=revel_predictions,\n",
    "                               mode='lines',\n",
    "                               name=\"predict\"))\n",
    "fig.show()\n"
   ]
  },
  {
   "cell_type": "code",
   "execution_count": null,
   "metadata": {
    "tags": []
   },
   "outputs": [],
   "source": [
    "print(x_test.shape)\n",
    "PREDICT_NUM = 2\n",
    "\n",
    "predictions = []\n",
    "for i in range(0, x_test.shape[0], PREDICT_NUM):\n",
    "    x_input = x_test[i]\n",
    "    for j in range(PREDICT_NUM):\n",
    "        prediction = model.predict(np.array([x_input]), batch_size=1, verbose=0)\n",
    "        predictions.append(prediction)\n",
    "        x_input = np.vstack([x_input[1:], prediction])\n",
    "\n",
    "revel_predictions = np.ravel(predictions, order='C')\n",
    "revel_y_test = np.ravel(y_test, order='C')\n"
   ]
  },
  {
   "cell_type": "code",
   "execution_count": null,
   "metadata": {},
   "outputs": [],
   "source": [
    "fig = go.Figure(layout=go.Layout(height=600, width=1200))\n",
    "fig = fig.add_trace(go.Scatter(y=y_test,\n",
    "                               mode='lines',\n",
    "                               name=\"origin\"))\n",
    "fig = fig.add_trace(go.Scatter(y=revel_predictions,\n",
    "                               mode='lines',\n",
    "                               name=\"predict\"))\n",
    "fig.show()"
   ]
  },
  {
   "cell_type": "code",
   "execution_count": null,
   "metadata": {},
   "outputs": [],
   "source": [
    "# 100개의 실 데이터로 5개 데이터 예측을 반복\n",
    "\n",
    "# look_ahead = 5\n",
    "\n",
    "# x_input = x_test[0]\n",
    "# predictions = []\n",
    "\n",
    "# print('x_input \\n', x_input)\n",
    "# prediction = model.predict(np.array([x_input]), batch_size=1, verbose=2)\n",
    "# print('prediction \\n', prediction)\n",
    "# predictions.append(prediction)\n",
    "\n",
    "# x_input = np.vstack([x_input[1:], prediction])\n",
    "# print('x_input \\n', x_input)\n",
    "# prediction = model.predict(np.array([x_input]), batch_size=1, verbose=2)\n",
    "# predictions.append(prediction)\n",
    "\n",
    "\n",
    "# print('predictions \\n', predictions)\n",
    "\n",
    "# # print(np.ravel(prediction, order='C'))\n",
    "# ###################################################\n",
    "\n",
    "# # 최초 예측할 100개의 데이터\n",
    "# x_input = x_test[0]\n"
   ]
  },
  {
   "cell_type": "code",
   "execution_count": null,
   "metadata": {},
   "outputs": [],
   "source": [
    "# plt.figure(figsize=(12,5))\n",
    "# plt.plot(np.arange(look_ahead),predictions,'r',label=\"prediction\")\n",
    "# plt.plot(np.arange(look_ahead),y_test[:look_ahead],label=\"test function\")\n",
    "# plt.legend()\n",
    "# plt.show()"
   ]
  },
  {
   "cell_type": "code",
   "execution_count": null,
   "metadata": {},
   "outputs": [],
   "source": [
    "# look_ahead = 10\n",
    "# xhat = x_test[0]\n",
    "# predictions = np.zeros((look_ahead,1))\n",
    "# for i in range(look_ahead):\n",
    "#     prediction = model.predict(np.array([xhat]), batch_size=1)\n",
    "#     predictions[i] = prediction\n",
    "#     xhat = np.vstack([xhat[1:],prediction])"
   ]
  }
 ]
}